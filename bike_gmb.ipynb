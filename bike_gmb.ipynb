{
 "cells": [
  {
   "cell_type": "code",
   "execution_count": 1,
   "metadata": {},
   "outputs": [],
   "source": [
    "import h2o\n",
    "from h2o.estimators.gbm import H2OGradientBoostingEstimator"
   ]
  },
  {
   "cell_type": "code",
   "execution_count": 2,
   "metadata": {},
   "outputs": [
    {
     "name": "stdout",
     "output_type": "stream",
     "text": [
      "Checking whether there is an H2O instance running at http://localhost:54321. connected.\n"
     ]
    },
    {
     "data": {
      "text/html": [
       "<div style=\"overflow:auto\"><table style=\"width:50%\"><tr><td>H2O cluster uptime:</td>\n",
       "<td>17 mins 14 secs</td></tr>\n",
       "<tr><td>H2O cluster timezone:</td>\n",
       "<td>America/Denver</td></tr>\n",
       "<tr><td>H2O data parsing timezone:</td>\n",
       "<td>UTC</td></tr>\n",
       "<tr><td>H2O cluster version:</td>\n",
       "<td>3.18.0.2</td></tr>\n",
       "<tr><td>H2O cluster version age:</td>\n",
       "<td>7 days, 20 hours and 29 minutes </td></tr>\n",
       "<tr><td>H2O cluster name:</td>\n",
       "<td>H2O_from_python_jpitt_w07d4a</td></tr>\n",
       "<tr><td>H2O cluster total nodes:</td>\n",
       "<td>1</td></tr>\n",
       "<tr><td>H2O cluster free memory:</td>\n",
       "<td>3.542 Gb</td></tr>\n",
       "<tr><td>H2O cluster total cores:</td>\n",
       "<td>8</td></tr>\n",
       "<tr><td>H2O cluster allowed cores:</td>\n",
       "<td>8</td></tr>\n",
       "<tr><td>H2O cluster status:</td>\n",
       "<td>locked, healthy</td></tr>\n",
       "<tr><td>H2O connection url:</td>\n",
       "<td>http://localhost:54321</td></tr>\n",
       "<tr><td>H2O connection proxy:</td>\n",
       "<td>None</td></tr>\n",
       "<tr><td>H2O internal security:</td>\n",
       "<td>False</td></tr>\n",
       "<tr><td>H2O API Extensions:</td>\n",
       "<td>XGBoost, Algos, AutoML, Core V3, Core V4</td></tr>\n",
       "<tr><td>Python version:</td>\n",
       "<td>3.6.4 final</td></tr></table></div>"
      ],
      "text/plain": [
       "--------------------------  ----------------------------------------\n",
       "H2O cluster uptime:         17 mins 14 secs\n",
       "H2O cluster timezone:       America/Denver\n",
       "H2O data parsing timezone:  UTC\n",
       "H2O cluster version:        3.18.0.2\n",
       "H2O cluster version age:    7 days, 20 hours and 29 minutes\n",
       "H2O cluster name:           H2O_from_python_jpitt_w07d4a\n",
       "H2O cluster total nodes:    1\n",
       "H2O cluster free memory:    3.542 Gb\n",
       "H2O cluster total cores:    8\n",
       "H2O cluster allowed cores:  8\n",
       "H2O cluster status:         locked, healthy\n",
       "H2O connection url:         http://localhost:54321\n",
       "H2O connection proxy:\n",
       "H2O internal security:      False\n",
       "H2O API Extensions:         XGBoost, Algos, AutoML, Core V3, Core V4\n",
       "Python version:             3.6.4 final\n",
       "--------------------------  ----------------------------------------"
      ]
     },
     "metadata": {},
     "output_type": "display_data"
    }
   ],
   "source": [
    "# Connect to a pre-existing cluster\n",
    "h2o.init()"
   ]
  },
  {
   "cell_type": "code",
   "execution_count": 3,
   "metadata": {
    "scrolled": true
   },
   "outputs": [
    {
     "name": "stdout",
     "output_type": "stream",
     "text": [
      "Parse progress: |█████████████████████████████████████████████████████████| 100%\n"
     ]
    }
   ],
   "source": [
    "from h2o.utils.shared_utils import _locate # private function. used to find files within h2o git project directory.\n",
    "\n",
    "df = h2o.import_file(path=_locate(\"train.csv\"))"
   ]
  },
  {
   "cell_type": "code",
   "execution_count": 5,
   "metadata": {
    "scrolled": false
   },
   "outputs": [
    {
     "name": "stdout",
     "output_type": "stream",
     "text": [
      "Rows:10886\n",
      "Cols:12\n",
      "\n",
      "\n"
     ]
    },
    {
     "data": {
      "text/html": [
       "<table>\n",
       "<thead>\n",
       "<tr><th>       </th><th>datetime           </th><th>season            </th><th>holiday            </th><th>workingday        </th><th>weather           </th><th>temp              </th><th>atemp             </th><th>humidity          </th><th>windspeed         </th><th>casual            </th><th>registered        </th><th>count             </th></tr>\n",
       "</thead>\n",
       "<tbody>\n",
       "<tr><td>type   </td><td>time               </td><td>int               </td><td>int                </td><td>int               </td><td>int               </td><td>real              </td><td>real              </td><td>int               </td><td>real              </td><td>int               </td><td>int               </td><td>int               </td></tr>\n",
       "<tr><td>mins   </td><td>1293840000000.0    </td><td>1.0               </td><td>0.0                </td><td>0.0               </td><td>1.0               </td><td>0.82              </td><td>0.76              </td><td>0.0               </td><td>0.0               </td><td>0.0               </td><td>0.0               </td><td>1.0               </td></tr>\n",
       "<tr><td>mean   </td><td>1324965382399.412  </td><td>2.5066139996325556</td><td>0.02856880396839978</td><td>0.6808745177291935</td><td>1.418427337865148 </td><td>20.230859819952233</td><td>23.655084052911995</td><td>61.88645967297445 </td><td>12.799395406944695</td><td>36.02195480433584 </td><td>155.55217710821236</td><td>191.57413191254824</td></tr>\n",
       "<tr><td>maxs   </td><td>1355958000000.0    </td><td>4.0               </td><td>1.0                </td><td>1.0               </td><td>4.0               </td><td>41.0              </td><td>45.455            </td><td>100.0             </td><td>56.9969           </td><td>367.0             </td><td>886.0             </td><td>977.0             </td></tr>\n",
       "<tr><td>sigma  </td><td>18187689411.512825 </td><td>1.116174309344325 </td><td>0.16659885062470955</td><td>0.4661591687997357</td><td>0.6338385858190958</td><td>7.791589843987567 </td><td>8.474600626484944 </td><td>19.245033277394686</td><td>8.164537326838689 </td><td>49.960476572649526</td><td>151.03903308192454</td><td>181.1444538302853 </td></tr>\n",
       "<tr><td>zeros  </td><td>0                  </td><td>0                 </td><td>10575              </td><td>3474              </td><td>0                 </td><td>0                 </td><td>0                 </td><td>22                </td><td>1313              </td><td>986               </td><td>15                </td><td>0                 </td></tr>\n",
       "<tr><td>missing</td><td>0                  </td><td>0                 </td><td>0                  </td><td>0                 </td><td>0                 </td><td>0                 </td><td>0                 </td><td>0                 </td><td>0                 </td><td>0                 </td><td>0                 </td><td>0                 </td></tr>\n",
       "<tr><td>0      </td><td>2011-01-01 00:00:00</td><td>1.0               </td><td>0.0                </td><td>0.0               </td><td>1.0               </td><td>9.84              </td><td>14.395            </td><td>81.0              </td><td>0.0               </td><td>3.0               </td><td>13.0              </td><td>16.0              </td></tr>\n",
       "<tr><td>1      </td><td>2011-01-01 01:00:00</td><td>1.0               </td><td>0.0                </td><td>0.0               </td><td>1.0               </td><td>9.02              </td><td>13.635            </td><td>80.0              </td><td>0.0               </td><td>8.0               </td><td>32.0              </td><td>40.0              </td></tr>\n",
       "<tr><td>2      </td><td>2011-01-01 02:00:00</td><td>1.0               </td><td>0.0                </td><td>0.0               </td><td>1.0               </td><td>9.02              </td><td>13.635            </td><td>80.0              </td><td>0.0               </td><td>5.0               </td><td>27.0              </td><td>32.0              </td></tr>\n",
       "<tr><td>3      </td><td>2011-01-01 03:00:00</td><td>1.0               </td><td>0.0                </td><td>0.0               </td><td>1.0               </td><td>9.84              </td><td>14.395            </td><td>75.0              </td><td>0.0               </td><td>3.0               </td><td>10.0              </td><td>13.0              </td></tr>\n",
       "<tr><td>4      </td><td>2011-01-01 04:00:00</td><td>1.0               </td><td>0.0                </td><td>0.0               </td><td>1.0               </td><td>9.84              </td><td>14.395            </td><td>75.0              </td><td>0.0               </td><td>0.0               </td><td>1.0               </td><td>1.0               </td></tr>\n",
       "<tr><td>5      </td><td>2011-01-01 05:00:00</td><td>1.0               </td><td>0.0                </td><td>0.0               </td><td>2.0               </td><td>9.84              </td><td>12.88             </td><td>75.0              </td><td>6.0032            </td><td>0.0               </td><td>1.0               </td><td>1.0               </td></tr>\n",
       "<tr><td>6      </td><td>2011-01-01 06:00:00</td><td>1.0               </td><td>0.0                </td><td>0.0               </td><td>1.0               </td><td>9.02              </td><td>13.635            </td><td>80.0              </td><td>0.0               </td><td>2.0               </td><td>0.0               </td><td>2.0               </td></tr>\n",
       "<tr><td>7      </td><td>2011-01-01 07:00:00</td><td>1.0               </td><td>0.0                </td><td>0.0               </td><td>1.0               </td><td>8.2               </td><td>12.88             </td><td>86.0              </td><td>0.0               </td><td>1.0               </td><td>2.0               </td><td>3.0               </td></tr>\n",
       "<tr><td>8      </td><td>2011-01-01 08:00:00</td><td>1.0               </td><td>0.0                </td><td>0.0               </td><td>1.0               </td><td>9.84              </td><td>14.395            </td><td>75.0              </td><td>0.0               </td><td>1.0               </td><td>7.0               </td><td>8.0               </td></tr>\n",
       "<tr><td>9      </td><td>2011-01-01 09:00:00</td><td>1.0               </td><td>0.0                </td><td>0.0               </td><td>1.0               </td><td>13.12             </td><td>17.425            </td><td>76.0              </td><td>0.0               </td><td>8.0               </td><td>6.0               </td><td>14.0              </td></tr>\n",
       "</tbody>\n",
       "</table>"
      ]
     },
     "metadata": {},
     "output_type": "display_data"
    }
   ],
   "source": [
    "df.describe()"
   ]
  },
  {
   "cell_type": "code",
   "execution_count": 12,
   "metadata": {},
   "outputs": [],
   "source": [
    "# Remove things from training frame\n",
    "train = df.drop([\"datetime\", \"registered\", \"casual\"])\n",
    "\n",
    "# Convert CAPSULE to a logical factor\n",
    "train['holiday'] = train['holiday'].asfactor()\n",
    "train['workingday'] = train['workingday'].asfactor()\n",
    "train['season'] = train['season'].asfactor()\n",
    "train['weather'] = train['weather'].asfactor()"
   ]
  },
  {
   "cell_type": "code",
   "execution_count": 13,
   "metadata": {},
   "outputs": [
    {
     "name": "stdout",
     "output_type": "stream",
     "text": [
      "Rows:10886\n",
      "Cols:9\n",
      "\n",
      "\n"
     ]
    },
    {
     "data": {
      "text/html": [
       "<table>\n",
       "<thead>\n",
       "<tr><th>       </th><th>season  </th><th>holiday  </th><th>workingday  </th><th>weather  </th><th>temp              </th><th>atemp             </th><th>humidity          </th><th>windspeed         </th><th>count             </th></tr>\n",
       "</thead>\n",
       "<tbody>\n",
       "<tr><td>type   </td><td>enum    </td><td>enum     </td><td>enum        </td><td>enum     </td><td>real              </td><td>real              </td><td>int               </td><td>real              </td><td>int               </td></tr>\n",
       "<tr><td>mins   </td><td>        </td><td>         </td><td>            </td><td>         </td><td>0.82              </td><td>0.76              </td><td>0.0               </td><td>0.0               </td><td>1.0               </td></tr>\n",
       "<tr><td>mean   </td><td>        </td><td>         </td><td>            </td><td>         </td><td>20.230859819952233</td><td>23.655084052911995</td><td>61.88645967297445 </td><td>12.799395406944695</td><td>191.57413191254824</td></tr>\n",
       "<tr><td>maxs   </td><td>        </td><td>         </td><td>            </td><td>         </td><td>41.0              </td><td>45.455            </td><td>100.0             </td><td>56.9969           </td><td>977.0             </td></tr>\n",
       "<tr><td>sigma  </td><td>        </td><td>         </td><td>            </td><td>         </td><td>7.791589843987567 </td><td>8.474600626484944 </td><td>19.245033277394686</td><td>8.164537326838689 </td><td>181.1444538302853 </td></tr>\n",
       "<tr><td>zeros  </td><td>        </td><td>         </td><td>            </td><td>         </td><td>0                 </td><td>0                 </td><td>22                </td><td>1313              </td><td>0                 </td></tr>\n",
       "<tr><td>missing</td><td>0       </td><td>0        </td><td>0           </td><td>0        </td><td>0                 </td><td>0                 </td><td>0                 </td><td>0                 </td><td>0                 </td></tr>\n",
       "<tr><td>0      </td><td>1       </td><td>0        </td><td>0           </td><td>1        </td><td>9.84              </td><td>14.395            </td><td>81.0              </td><td>0.0               </td><td>16.0              </td></tr>\n",
       "<tr><td>1      </td><td>1       </td><td>0        </td><td>0           </td><td>1        </td><td>9.02              </td><td>13.635            </td><td>80.0              </td><td>0.0               </td><td>40.0              </td></tr>\n",
       "<tr><td>2      </td><td>1       </td><td>0        </td><td>0           </td><td>1        </td><td>9.02              </td><td>13.635            </td><td>80.0              </td><td>0.0               </td><td>32.0              </td></tr>\n",
       "<tr><td>3      </td><td>1       </td><td>0        </td><td>0           </td><td>1        </td><td>9.84              </td><td>14.395            </td><td>75.0              </td><td>0.0               </td><td>13.0              </td></tr>\n",
       "<tr><td>4      </td><td>1       </td><td>0        </td><td>0           </td><td>1        </td><td>9.84              </td><td>14.395            </td><td>75.0              </td><td>0.0               </td><td>1.0               </td></tr>\n",
       "<tr><td>5      </td><td>1       </td><td>0        </td><td>0           </td><td>2        </td><td>9.84              </td><td>12.88             </td><td>75.0              </td><td>6.0032            </td><td>1.0               </td></tr>\n",
       "<tr><td>6      </td><td>1       </td><td>0        </td><td>0           </td><td>1        </td><td>9.02              </td><td>13.635            </td><td>80.0              </td><td>0.0               </td><td>2.0               </td></tr>\n",
       "<tr><td>7      </td><td>1       </td><td>0        </td><td>0           </td><td>1        </td><td>8.2               </td><td>12.88             </td><td>86.0              </td><td>0.0               </td><td>3.0               </td></tr>\n",
       "<tr><td>8      </td><td>1       </td><td>0        </td><td>0           </td><td>1        </td><td>9.84              </td><td>14.395            </td><td>75.0              </td><td>0.0               </td><td>8.0               </td></tr>\n",
       "<tr><td>9      </td><td>1       </td><td>0        </td><td>0           </td><td>1        </td><td>13.12             </td><td>17.425            </td><td>76.0              </td><td>0.0               </td><td>14.0              </td></tr>\n",
       "</tbody>\n",
       "</table>"
      ]
     },
     "metadata": {},
     "output_type": "display_data"
    }
   ],
   "source": [
    "# See that the data is ready\n",
    "train.describe()"
   ]
  },
  {
   "cell_type": "code",
   "execution_count": 35,
   "metadata": {},
   "outputs": [
    {
     "name": "stdout",
     "output_type": "stream",
     "text": [
      "gbm Model Build progress: |███████████████████████████████████████████████| 100%\n"
     ]
    }
   ],
   "source": [
    "# Run GBM\n",
    "my_gbm = H2OGradientBoostingEstimator(distribution = \"gamma\", ntrees=500, learn_rate=.01)\n",
    "\n",
    "my_gbm.train(x=list(range(0,train.ncol - 1)), y=\"count\", training_frame=train, validation_frame=train)"
   ]
  },
  {
   "cell_type": "code",
   "execution_count": 36,
   "metadata": {},
   "outputs": [
    {
     "name": "stdout",
     "output_type": "stream",
     "text": [
      "\n",
      "ModelMetricsRegression: gbm\n",
      "** Reported on test data. **\n",
      "\n",
      "MSE: 20248.8914263739\n",
      "RMSE: 142.29859952358595\n",
      "MAE: 103.21973945400408\n",
      "RMSLE: 1.2555516806424891\n",
      "Mean Residual Deviance: 12.10990516315554\n"
     ]
    }
   ],
   "source": [
    "my_gbm_metrics = my_gbm.model_performance(train)\n",
    "my_gbm_metrics.show()"
   ]
  },
  {
   "cell_type": "code",
   "execution_count": null,
   "metadata": {},
   "outputs": [],
   "source": []
  },
  {
   "cell_type": "code",
   "execution_count": null,
   "metadata": {},
   "outputs": [],
   "source": []
  }
 ],
 "metadata": {
  "kernelspec": {
   "display_name": "Python (bike-ml)",
   "language": "python",
   "name": "bike-ml"
  },
  "language_info": {
   "codemirror_mode": {
    "name": "ipython",
    "version": 3
   },
   "file_extension": ".py",
   "mimetype": "text/x-python",
   "name": "python",
   "nbconvert_exporter": "python",
   "pygments_lexer": "ipython3",
   "version": "3.6.4"
  }
 },
 "nbformat": 4,
 "nbformat_minor": 1
}
