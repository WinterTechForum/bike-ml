{
 "cells": [
  {
   "cell_type": "code",
   "execution_count": 1,
   "metadata": {},
   "outputs": [],
   "source": [
    "import h2o\n",
    "from h2o.automl import H2OAutoML"
   ]
  },
  {
   "cell_type": "code",
   "execution_count": 2,
   "metadata": {},
   "outputs": [
    {
     "name": "stdout",
     "output_type": "stream",
     "text": [
      "Checking whether there is an H2O instance running at http://localhost:54321..... not found.\n",
      "Attempting to start a local H2O server...\n",
      "  Java Version: java version \"1.8.0_161\"; Java(TM) SE Runtime Environment (build 1.8.0_161-b12); Java HotSpot(TM) 64-Bit Server VM (build 25.161-b12, mixed mode)\n",
      "  Starting server from /anaconda3/envs/bike-ml/lib/python3.6/site-packages/h2o/backend/bin/h2o.jar\n",
      "  Ice root: /var/folders/kk/7dzbn72j28x1lth644jf8cb00000gn/T/tmp1de1x_r3\n",
      "  JVM stdout: /var/folders/kk/7dzbn72j28x1lth644jf8cb00000gn/T/tmp1de1x_r3/h2o_jpitt_started_from_python.out\n",
      "  JVM stderr: /var/folders/kk/7dzbn72j28x1lth644jf8cb00000gn/T/tmp1de1x_r3/h2o_jpitt_started_from_python.err\n",
      "  Server is running at http://127.0.0.1:54321\n",
      "Connecting to H2O server at http://127.0.0.1:54321... successful.\n"
     ]
    },
    {
     "data": {
      "text/html": [
       "<div style=\"overflow:auto\"><table style=\"width:50%\"><tr><td>H2O cluster uptime:</td>\n",
       "<td>03 secs</td></tr>\n",
       "<tr><td>H2O cluster timezone:</td>\n",
       "<td>America/Denver</td></tr>\n",
       "<tr><td>H2O data parsing timezone:</td>\n",
       "<td>UTC</td></tr>\n",
       "<tr><td>H2O cluster version:</td>\n",
       "<td>3.18.0.2</td></tr>\n",
       "<tr><td>H2O cluster version age:</td>\n",
       "<td>7 days, 23 hours and 7 minutes </td></tr>\n",
       "<tr><td>H2O cluster name:</td>\n",
       "<td>H2O_from_python_jpitt_rbvdxg</td></tr>\n",
       "<tr><td>H2O cluster total nodes:</td>\n",
       "<td>1</td></tr>\n",
       "<tr><td>H2O cluster free memory:</td>\n",
       "<td>3.556 Gb</td></tr>\n",
       "<tr><td>H2O cluster total cores:</td>\n",
       "<td>8</td></tr>\n",
       "<tr><td>H2O cluster allowed cores:</td>\n",
       "<td>8</td></tr>\n",
       "<tr><td>H2O cluster status:</td>\n",
       "<td>accepting new members, healthy</td></tr>\n",
       "<tr><td>H2O connection url:</td>\n",
       "<td>http://127.0.0.1:54321</td></tr>\n",
       "<tr><td>H2O connection proxy:</td>\n",
       "<td>None</td></tr>\n",
       "<tr><td>H2O internal security:</td>\n",
       "<td>False</td></tr>\n",
       "<tr><td>H2O API Extensions:</td>\n",
       "<td>XGBoost, Algos, AutoML, Core V3, Core V4</td></tr>\n",
       "<tr><td>Python version:</td>\n",
       "<td>3.6.4 final</td></tr></table></div>"
      ],
      "text/plain": [
       "--------------------------  ----------------------------------------\n",
       "H2O cluster uptime:         03 secs\n",
       "H2O cluster timezone:       America/Denver\n",
       "H2O data parsing timezone:  UTC\n",
       "H2O cluster version:        3.18.0.2\n",
       "H2O cluster version age:    7 days, 23 hours and 7 minutes\n",
       "H2O cluster name:           H2O_from_python_jpitt_rbvdxg\n",
       "H2O cluster total nodes:    1\n",
       "H2O cluster free memory:    3.556 Gb\n",
       "H2O cluster total cores:    8\n",
       "H2O cluster allowed cores:  8\n",
       "H2O cluster status:         accepting new members, healthy\n",
       "H2O connection url:         http://127.0.0.1:54321\n",
       "H2O connection proxy:\n",
       "H2O internal security:      False\n",
       "H2O API Extensions:         XGBoost, Algos, AutoML, Core V3, Core V4\n",
       "Python version:             3.6.4 final\n",
       "--------------------------  ----------------------------------------"
      ]
     },
     "metadata": {},
     "output_type": "display_data"
    }
   ],
   "source": [
    "# Connect to a pre-existing cluster\n",
    "\n",
    "h2o.init()\n",
    "h2o.remove_all()"
   ]
  },
  {
   "cell_type": "code",
   "execution_count": 3,
   "metadata": {
    "scrolled": true
   },
   "outputs": [
    {
     "name": "stdout",
     "output_type": "stream",
     "text": [
      "[WARNING] in <ipython-input-3-d17ed4b1b0f9> line 3:\n",
      "    >>> h2o.cluster_info()\n",
      "        ^^^^ Deprecated, use ``h2o.cluster().show_status()``.\n"
     ]
    },
    {
     "data": {
      "text/html": [
       "<div style=\"overflow:auto\"><table style=\"width:50%\"><tr><td>H2O cluster uptime:</td>\n",
       "<td>03 secs</td></tr>\n",
       "<tr><td>H2O cluster timezone:</td>\n",
       "<td>America/Denver</td></tr>\n",
       "<tr><td>H2O data parsing timezone:</td>\n",
       "<td>UTC</td></tr>\n",
       "<tr><td>H2O cluster version:</td>\n",
       "<td>3.18.0.2</td></tr>\n",
       "<tr><td>H2O cluster version age:</td>\n",
       "<td>7 days, 23 hours and 7 minutes </td></tr>\n",
       "<tr><td>H2O cluster name:</td>\n",
       "<td>H2O_from_python_jpitt_rbvdxg</td></tr>\n",
       "<tr><td>H2O cluster total nodes:</td>\n",
       "<td>1</td></tr>\n",
       "<tr><td>H2O cluster free memory:</td>\n",
       "<td>3.556 Gb</td></tr>\n",
       "<tr><td>H2O cluster total cores:</td>\n",
       "<td>8</td></tr>\n",
       "<tr><td>H2O cluster allowed cores:</td>\n",
       "<td>8</td></tr>\n",
       "<tr><td>H2O cluster status:</td>\n",
       "<td>accepting new members, healthy</td></tr>\n",
       "<tr><td>H2O connection url:</td>\n",
       "<td>http://127.0.0.1:54321</td></tr>\n",
       "<tr><td>H2O connection proxy:</td>\n",
       "<td>None</td></tr>\n",
       "<tr><td>H2O internal security:</td>\n",
       "<td>False</td></tr>\n",
       "<tr><td>H2O API Extensions:</td>\n",
       "<td>XGBoost, Algos, AutoML, Core V3, Core V4</td></tr>\n",
       "<tr><td>Python version:</td>\n",
       "<td>3.6.4 final</td></tr></table></div>"
      ],
      "text/plain": [
       "--------------------------  ----------------------------------------\n",
       "H2O cluster uptime:         03 secs\n",
       "H2O cluster timezone:       America/Denver\n",
       "H2O data parsing timezone:  UTC\n",
       "H2O cluster version:        3.18.0.2\n",
       "H2O cluster version age:    7 days, 23 hours and 7 minutes\n",
       "H2O cluster name:           H2O_from_python_jpitt_rbvdxg\n",
       "H2O cluster total nodes:    1\n",
       "H2O cluster free memory:    3.556 Gb\n",
       "H2O cluster total cores:    8\n",
       "H2O cluster allowed cores:  8\n",
       "H2O cluster status:         accepting new members, healthy\n",
       "H2O connection url:         http://127.0.0.1:54321\n",
       "H2O connection proxy:\n",
       "H2O internal security:      False\n",
       "H2O API Extensions:         XGBoost, Algos, AutoML, Core V3, Core V4\n",
       "Python version:             3.6.4 final\n",
       "--------------------------  ----------------------------------------"
      ]
     },
     "metadata": {},
     "output_type": "display_data"
    },
    {
     "name": "stdout",
     "output_type": "stream",
     "text": [
      "Parse progress: |█████████████████████████████████████████████████████████| 100%\n"
     ]
    }
   ],
   "source": [
    "from h2o.utils.shared_utils import _locate # private function. used to find files within h2o git project directory.\n",
    "\n",
    "h2o.cluster_info()\n",
    "\n",
    "df = h2o.import_file(path=_locate(\"train.csv\"))\n"
   ]
  },
  {
   "cell_type": "code",
   "execution_count": 4,
   "metadata": {
    "scrolled": false
   },
   "outputs": [
    {
     "name": "stdout",
     "output_type": "stream",
     "text": [
      "Rows:10885\n",
      "Cols:13\n",
      "\n",
      "\n"
     ]
    },
    {
     "data": {
      "text/html": [
       "<table>\n",
       "<thead>\n",
       "<tr><th>       </th><th>datetime           </th><th>season            </th><th>holiday            </th><th>workingday         </th><th>weather           </th><th>temp              </th><th>atemp             </th><th>humidity          </th><th>windspeed         </th><th>casual           </th><th>registered        </th><th>count             </th><th>previouscount     </th></tr>\n",
       "</thead>\n",
       "<tbody>\n",
       "<tr><td>type   </td><td>time               </td><td>int               </td><td>int                </td><td>int                </td><td>int               </td><td>real              </td><td>real              </td><td>int               </td><td>real              </td><td>int              </td><td>int               </td><td>int               </td><td>int               </td></tr>\n",
       "<tr><td>mins   </td><td>1293843600000.0    </td><td>1.0               </td><td>0.0                </td><td>0.0                </td><td>1.0               </td><td>0.82              </td><td>0.76              </td><td>0.0               </td><td>0.0               </td><td>0.0              </td><td>0.0               </td><td>1.0               </td><td>1.0               </td></tr>\n",
       "<tr><td>mean   </td><td>1324968241874.1387 </td><td>2.5067524115755626</td><td>0.02857142857142857</td><td>0.6809370693615067 </td><td>1.4184657785943962</td><td>20.2318144235186  </td><td>23.655934772622874</td><td>61.88470372071658 </td><td>12.800571281580158</td><td>36.02498851630684</td><td>155.5652733118971 </td><td>191.59026182820395</td><td>191.5836472209463 </td></tr>\n",
       "<tr><td>maxs   </td><td>1355958000000.0    </td><td>4.0               </td><td>1.0                </td><td>1.0                </td><td>4.0               </td><td>41.0              </td><td>45.455            </td><td>100.0             </td><td>56.9969           </td><td>367.0            </td><td>886.0             </td><td>977.0             </td><td>977.0             </td></tr>\n",
       "<tr><td>sigma  </td><td>18186077643.01126  </td><td>1.1161321529674035</td><td>0.16660627876431913</td><td>0.46613489303567057</td><td>0.6338550128938669</td><td>7.7913111304392215</td><td>8.474525070270193 </td><td>19.245045237309753</td><td>8.163990511234385 </td><td>49.96176892218166</td><td>151.03979036028676</td><td>181.14495703238546</td><td>181.15005452302242</td></tr>\n",
       "<tr><td>zeros  </td><td>0                  </td><td>0                 </td><td>10574              </td><td>3473               </td><td>0                 </td><td>0                 </td><td>0                 </td><td>22                </td><td>1312              </td><td>986              </td><td>15                </td><td>0                 </td><td>0                 </td></tr>\n",
       "<tr><td>missing</td><td>0                  </td><td>0                 </td><td>0                  </td><td>0                  </td><td>0                 </td><td>0                 </td><td>0                 </td><td>0                 </td><td>0                 </td><td>0                </td><td>0                 </td><td>0                 </td><td>0                 </td></tr>\n",
       "<tr><td>0      </td><td>2011-01-01 01:00:00</td><td>1.0               </td><td>0.0                </td><td>0.0                </td><td>1.0               </td><td>9.02              </td><td>13.635            </td><td>80.0              </td><td>0.0               </td><td>8.0              </td><td>32.0              </td><td>40.0              </td><td>16.0              </td></tr>\n",
       "<tr><td>1      </td><td>2011-01-01 02:00:00</td><td>1.0               </td><td>0.0                </td><td>0.0                </td><td>1.0               </td><td>9.02              </td><td>13.635            </td><td>80.0              </td><td>0.0               </td><td>5.0              </td><td>27.0              </td><td>32.0              </td><td>40.0              </td></tr>\n",
       "<tr><td>2      </td><td>2011-01-01 03:00:00</td><td>1.0               </td><td>0.0                </td><td>0.0                </td><td>1.0               </td><td>9.84              </td><td>14.395            </td><td>75.0              </td><td>0.0               </td><td>3.0              </td><td>10.0              </td><td>13.0              </td><td>32.0              </td></tr>\n",
       "<tr><td>3      </td><td>2011-01-01 04:00:00</td><td>1.0               </td><td>0.0                </td><td>0.0                </td><td>1.0               </td><td>9.84              </td><td>14.395            </td><td>75.0              </td><td>0.0               </td><td>0.0              </td><td>1.0               </td><td>1.0               </td><td>13.0              </td></tr>\n",
       "<tr><td>4      </td><td>2011-01-01 05:00:00</td><td>1.0               </td><td>0.0                </td><td>0.0                </td><td>2.0               </td><td>9.84              </td><td>12.88             </td><td>75.0              </td><td>6.0032            </td><td>0.0              </td><td>1.0               </td><td>1.0               </td><td>1.0               </td></tr>\n",
       "<tr><td>5      </td><td>2011-01-01 06:00:00</td><td>1.0               </td><td>0.0                </td><td>0.0                </td><td>1.0               </td><td>9.02              </td><td>13.635            </td><td>80.0              </td><td>0.0               </td><td>2.0              </td><td>0.0               </td><td>2.0               </td><td>1.0               </td></tr>\n",
       "<tr><td>6      </td><td>2011-01-01 07:00:00</td><td>1.0               </td><td>0.0                </td><td>0.0                </td><td>1.0               </td><td>8.2               </td><td>12.88             </td><td>86.0              </td><td>0.0               </td><td>1.0              </td><td>2.0               </td><td>3.0               </td><td>2.0               </td></tr>\n",
       "<tr><td>7      </td><td>2011-01-01 08:00:00</td><td>1.0               </td><td>0.0                </td><td>0.0                </td><td>1.0               </td><td>9.84              </td><td>14.395            </td><td>75.0              </td><td>0.0               </td><td>1.0              </td><td>7.0               </td><td>8.0               </td><td>3.0               </td></tr>\n",
       "<tr><td>8      </td><td>2011-01-01 09:00:00</td><td>1.0               </td><td>0.0                </td><td>0.0                </td><td>1.0               </td><td>13.12             </td><td>17.425            </td><td>76.0              </td><td>0.0               </td><td>8.0              </td><td>6.0               </td><td>14.0              </td><td>8.0               </td></tr>\n",
       "<tr><td>9      </td><td>2011-01-01 10:00:00</td><td>1.0               </td><td>0.0                </td><td>0.0                </td><td>1.0               </td><td>15.58             </td><td>19.695            </td><td>76.0              </td><td>16.9979           </td><td>12.0             </td><td>24.0              </td><td>36.0              </td><td>14.0              </td></tr>\n",
       "</tbody>\n",
       "</table>"
      ]
     },
     "metadata": {},
     "output_type": "display_data"
    }
   ],
   "source": [
    "df.describe()"
   ]
  },
  {
   "cell_type": "code",
   "execution_count": 5,
   "metadata": {},
   "outputs": [],
   "source": [
    "df_edited = df.drop([\"registered\", \"casual\"])\n",
    "\n",
    "# Do things with datetime\n",
    "# df_edited['datetime'] = df_edited['datetime'].as_date()\n",
    "df_edited['dayofweek'] = df_edited['datetime'].dayOfWeek()\n",
    "df_edited['dayofmonth'] = df_edited['datetime'].day()\n",
    "df_edited['hourofday'] = df_edited['datetime'].hour()\n",
    "df_edited['year'] = df_edited['datetime'].year()\n",
    "df_edited['month'] = df_edited['datetime'].month()\n",
    "\n",
    "# Remove things from frame\n",
    "df_edited = df_edited.drop([\"datetime\"])\n",
    "\n",
    "# Convert things to logical factors\n",
    "df_edited['holiday'] = df_edited['holiday'].asfactor()\n",
    "df_edited['workingday'] = df_edited['workingday'].asfactor()\n",
    "df_edited['season'] = df_edited['season'].asfactor()\n",
    "df_edited['weather'] = df_edited['weather'].asfactor()\n",
    "df_edited['dayofmonth'] = df_edited['dayofmonth'].asfactor()\n",
    "df_edited['hourofday'] = df_edited['hourofday'].asfactor()\n",
    "df_edited['dayofmonth'] = df_edited['dayofmonth'].asfactor()\n",
    "df_edited['month'] = df_edited['month'].asfactor()"
   ]
  },
  {
   "cell_type": "code",
   "execution_count": 6,
   "metadata": {},
   "outputs": [],
   "source": [
    "train,test,valid = df_edited.split_frame(ratios=[.85, .1])\n"
   ]
  },
  {
   "cell_type": "code",
   "execution_count": 7,
   "metadata": {},
   "outputs": [
    {
     "name": "stdout",
     "output_type": "stream",
     "text": [
      "Rows:9258\n",
      "Cols:15\n",
      "\n",
      "\n"
     ]
    },
    {
     "data": {
      "text/html": [
       "<table>\n",
       "<thead>\n",
       "<tr><th>       </th><th>season  </th><th>holiday  </th><th>workingday  </th><th>weather  </th><th>temp              </th><th>atemp             </th><th>humidity          </th><th>windspeed         </th><th>count             </th><th>previouscount     </th><th>dayofweek  </th><th>dayofmonth  </th><th>hourofday  </th><th>year              </th><th>month  </th></tr>\n",
       "</thead>\n",
       "<tbody>\n",
       "<tr><td>type   </td><td>enum    </td><td>enum     </td><td>enum        </td><td>enum     </td><td>real              </td><td>real              </td><td>int               </td><td>real              </td><td>int               </td><td>int               </td><td>enum       </td><td>enum        </td><td>enum       </td><td>int               </td><td>enum   </td></tr>\n",
       "<tr><td>mins   </td><td>        </td><td>         </td><td>            </td><td>         </td><td>0.82              </td><td>0.76              </td><td>0.0               </td><td>0.0               </td><td>1.0               </td><td>1.0               </td><td>           </td><td>            </td><td>           </td><td>2011.0            </td><td>       </td></tr>\n",
       "<tr><td>mean   </td><td>        </td><td>         </td><td>            </td><td>         </td><td>20.231095268956583</td><td>23.648686541369628</td><td>61.883236120112336</td><td>12.808891812486499</td><td>191.03154028947938</td><td>191.3801036941024 </td><td>           </td><td>            </td><td>           </td><td>2011.5032404407   </td><td>       </td></tr>\n",
       "<tr><td>maxs   </td><td>        </td><td>         </td><td>            </td><td>         </td><td>41.0              </td><td>45.455            </td><td>100.0             </td><td>50.0021           </td><td>977.0             </td><td>977.0             </td><td>           </td><td>            </td><td>           </td><td>2012.0            </td><td>       </td></tr>\n",
       "<tr><td>sigma  </td><td>        </td><td>         </td><td>            </td><td>         </td><td>7.7856169917831854</td><td>8.462925501280447 </td><td>19.19044488033508 </td><td>8.168255678883328 </td><td>180.32017507349764</td><td>180.66990957874054</td><td>           </td><td>            </td><td>           </td><td>0.5000165047269206</td><td>       </td></tr>\n",
       "<tr><td>zeros  </td><td>        </td><td>         </td><td>            </td><td>         </td><td>0                 </td><td>0                 </td><td>15                </td><td>1110              </td><td>0                 </td><td>0                 </td><td>           </td><td>            </td><td>           </td><td>0                 </td><td>       </td></tr>\n",
       "<tr><td>missing</td><td>0       </td><td>0        </td><td>0           </td><td>0        </td><td>0                 </td><td>0                 </td><td>0                 </td><td>0                 </td><td>0                 </td><td>0                 </td><td>0          </td><td>0           </td><td>0          </td><td>0                 </td><td>0      </td></tr>\n",
       "<tr><td>0      </td><td>1       </td><td>0        </td><td>0           </td><td>1        </td><td>9.02              </td><td>13.635            </td><td>80.0              </td><td>0.0               </td><td>40.0              </td><td>16.0              </td><td>Sat        </td><td>1           </td><td>1          </td><td>2011.0            </td><td>1      </td></tr>\n",
       "<tr><td>1      </td><td>1       </td><td>0        </td><td>0           </td><td>1        </td><td>9.02              </td><td>13.635            </td><td>80.0              </td><td>0.0               </td><td>32.0              </td><td>40.0              </td><td>Sat        </td><td>1           </td><td>2          </td><td>2011.0            </td><td>1      </td></tr>\n",
       "<tr><td>2      </td><td>1       </td><td>0        </td><td>0           </td><td>1        </td><td>9.84              </td><td>14.395            </td><td>75.0              </td><td>0.0               </td><td>13.0              </td><td>32.0              </td><td>Sat        </td><td>1           </td><td>3          </td><td>2011.0            </td><td>1      </td></tr>\n",
       "<tr><td>3      </td><td>1       </td><td>0        </td><td>0           </td><td>1        </td><td>9.84              </td><td>14.395            </td><td>75.0              </td><td>0.0               </td><td>1.0               </td><td>13.0              </td><td>Sat        </td><td>1           </td><td>4          </td><td>2011.0            </td><td>1      </td></tr>\n",
       "<tr><td>4      </td><td>1       </td><td>0        </td><td>0           </td><td>2        </td><td>9.84              </td><td>12.88             </td><td>75.0              </td><td>6.0032            </td><td>1.0               </td><td>1.0               </td><td>Sat        </td><td>1           </td><td>5          </td><td>2011.0            </td><td>1      </td></tr>\n",
       "<tr><td>5      </td><td>1       </td><td>0        </td><td>0           </td><td>1        </td><td>9.02              </td><td>13.635            </td><td>80.0              </td><td>0.0               </td><td>2.0               </td><td>1.0               </td><td>Sat        </td><td>1           </td><td>6          </td><td>2011.0            </td><td>1      </td></tr>\n",
       "<tr><td>6      </td><td>1       </td><td>0        </td><td>0           </td><td>1        </td><td>8.2               </td><td>12.88             </td><td>86.0              </td><td>0.0               </td><td>3.0               </td><td>2.0               </td><td>Sat        </td><td>1           </td><td>7          </td><td>2011.0            </td><td>1      </td></tr>\n",
       "<tr><td>7      </td><td>1       </td><td>0        </td><td>0           </td><td>1        </td><td>9.84              </td><td>14.395            </td><td>75.0              </td><td>0.0               </td><td>8.0               </td><td>3.0               </td><td>Sat        </td><td>1           </td><td>8          </td><td>2011.0            </td><td>1      </td></tr>\n",
       "<tr><td>8      </td><td>1       </td><td>0        </td><td>0           </td><td>1        </td><td>13.12             </td><td>17.425            </td><td>76.0              </td><td>0.0               </td><td>14.0              </td><td>8.0               </td><td>Sat        </td><td>1           </td><td>9          </td><td>2011.0            </td><td>1      </td></tr>\n",
       "<tr><td>9      </td><td>1       </td><td>0        </td><td>0           </td><td>1        </td><td>15.58             </td><td>19.695            </td><td>76.0              </td><td>16.9979           </td><td>36.0              </td><td>14.0              </td><td>Sat        </td><td>1           </td><td>10         </td><td>2011.0            </td><td>1      </td></tr>\n",
       "</tbody>\n",
       "</table>"
      ]
     },
     "metadata": {},
     "output_type": "display_data"
    }
   ],
   "source": [
    "# See that the data is ready\n",
    "train.describe()"
   ]
  },
  {
   "cell_type": "code",
   "execution_count": 8,
   "metadata": {},
   "outputs": [
    {
     "name": "stdout",
     "output_type": "stream",
     "text": [
      "Rows:1102\n",
      "Cols:15\n",
      "\n",
      "\n"
     ]
    },
    {
     "data": {
      "text/html": [
       "<table>\n",
       "<thead>\n",
       "<tr><th>       </th><th>season  </th><th>holiday  </th><th>workingday  </th><th>weather  </th><th>temp              </th><th>atemp             </th><th>humidity          </th><th>windspeed         </th><th>count             </th><th>previouscount     </th><th>dayofweek  </th><th>dayofmonth  </th><th>hourofday  </th><th>year              </th><th>month  </th></tr>\n",
       "</thead>\n",
       "<tbody>\n",
       "<tr><td>type   </td><td>enum    </td><td>enum     </td><td>enum        </td><td>enum     </td><td>real              </td><td>real              </td><td>int               </td><td>real              </td><td>int               </td><td>int               </td><td>enum       </td><td>enum        </td><td>enum       </td><td>int               </td><td>enum   </td></tr>\n",
       "<tr><td>mins   </td><td>        </td><td>         </td><td>            </td><td>         </td><td>0.82              </td><td>0.76              </td><td>0.0               </td><td>0.0               </td><td>1.0               </td><td>1.0               </td><td>           </td><td>            </td><td>           </td><td>2011.0            </td><td>       </td></tr>\n",
       "<tr><td>mean   </td><td>        </td><td>         </td><td>            </td><td>         </td><td>20.248493647912884</td><td>23.716515426497278</td><td>62.063520871143375</td><td>12.725336751361162</td><td>191.3520871143376 </td><td>191.21687840290383</td><td>           </td><td>            </td><td>           </td><td>2011.4854809437386</td><td>       </td></tr>\n",
       "<tr><td>maxs   </td><td>        </td><td>         </td><td>            </td><td>         </td><td>38.54             </td><td>42.425            </td><td>100.0             </td><td>56.9969           </td><td>884.0             </td><td>872.0             </td><td>           </td><td>            </td><td>           </td><td>2012.0            </td><td>       </td></tr>\n",
       "<tr><td>sigma  </td><td>        </td><td>         </td><td>            </td><td>         </td><td>7.946365834282832 </td><td>8.69634623544389  </td><td>19.386727145362556</td><td>8.235721919802188 </td><td>182.46620477704883</td><td>183.33991194388366</td><td>           </td><td>            </td><td>           </td><td>0.5000160715853603</td><td>       </td></tr>\n",
       "<tr><td>zeros  </td><td>        </td><td>         </td><td>            </td><td>         </td><td>0                 </td><td>0                 </td><td>5                 </td><td>140               </td><td>0                 </td><td>0                 </td><td>           </td><td>            </td><td>           </td><td>0                 </td><td>       </td></tr>\n",
       "<tr><td>missing</td><td>0       </td><td>0        </td><td>0           </td><td>0        </td><td>0                 </td><td>0                 </td><td>0                 </td><td>0                 </td><td>0                 </td><td>0                 </td><td>0          </td><td>0           </td><td>0          </td><td>0                 </td><td>0      </td></tr>\n",
       "<tr><td>0      </td><td>1       </td><td>0        </td><td>0           </td><td>2        </td><td>18.86             </td><td>22.725            </td><td>88.0              </td><td>19.9995           </td><td>39.0              </td><td>28.0              </td><td>Sat        </td><td>1           </td><td>23         </td><td>2011.0            </td><td>1      </td></tr>\n",
       "<tr><td>1      </td><td>1       </td><td>0        </td><td>0           </td><td>2        </td><td>17.22             </td><td>21.21             </td><td>100.0             </td><td>19.0012           </td><td>9.0               </td><td>17.0              </td><td>Sun        </td><td>2           </td><td>2          </td><td>2011.0            </td><td>1      </td></tr>\n",
       "<tr><td>2      </td><td>1       </td><td>0        </td><td>1           </td><td>1        </td><td>7.38              </td><td>8.335             </td><td>43.0              </td><td>16.9979           </td><td>44.0              </td><td>88.0              </td><td>Mon        </td><td>3           </td><td>10         </td><td>2011.0            </td><td>1      </td></tr>\n",
       "<tr><td>3      </td><td>1       </td><td>0        </td><td>1           </td><td>1        </td><td>8.2               </td><td>9.09              </td><td>40.0              </td><td>22.0028           </td><td>51.0              </td><td>44.0              </td><td>Mon        </td><td>3           </td><td>11         </td><td>2011.0            </td><td>1      </td></tr>\n",
       "<tr><td>4      </td><td>1       </td><td>0        </td><td>1           </td><td>1        </td><td>8.2               </td><td>11.365            </td><td>47.0              </td><td>7.0015            </td><td>52.0              </td><td>110.0             </td><td>Mon        </td><td>3           </td><td>20         </td><td>2011.0            </td><td>1      </td></tr>\n",
       "<tr><td>5      </td><td>1       </td><td>0        </td><td>1           </td><td>1        </td><td>6.56              </td><td>9.09              </td><td>59.0              </td><td>7.0015            </td><td>2.0               </td><td>5.0               </td><td>Tue        </td><td>4           </td><td>1          </td><td>2011.0            </td><td>1      </td></tr>\n",
       "<tr><td>6      </td><td>1       </td><td>0        </td><td>1           </td><td>1        </td><td>4.92              </td><td>7.575             </td><td>74.0              </td><td>8.9981            </td><td>94.0              </td><td>36.0              </td><td>Tue        </td><td>4           </td><td>7          </td><td>2011.0            </td><td>1      </td></tr>\n",
       "<tr><td>7      </td><td>1       </td><td>0        </td><td>1           </td><td>1        </td><td>9.02              </td><td>10.605            </td><td>51.0              </td><td>19.9995           </td><td>57.0              </td><td>42.0              </td><td>Tue        </td><td>4           </td><td>11         </td><td>2011.0            </td><td>1      </td></tr>\n",
       "<tr><td>8      </td><td>1       </td><td>0        </td><td>1           </td><td>1        </td><td>9.84              </td><td>11.365            </td><td>56.0              </td><td>12.998            </td><td>97.0              </td><td>78.0              </td><td>Tue        </td><td>4           </td><td>13         </td><td>2011.0            </td><td>1      </td></tr>\n",
       "<tr><td>9      </td><td>1       </td><td>0        </td><td>1           </td><td>1        </td><td>9.02              </td><td>9.85              </td><td>37.0              </td><td>22.0028           </td><td>115.0             </td><td>195.0             </td><td>Wed        </td><td>5           </td><td>9          </td><td>2011.0            </td><td>1      </td></tr>\n",
       "</tbody>\n",
       "</table>"
      ]
     },
     "metadata": {},
     "output_type": "display_data"
    }
   ],
   "source": [
    "test.describe()"
   ]
  },
  {
   "cell_type": "code",
   "execution_count": 9,
   "metadata": {},
   "outputs": [],
   "source": [
    "x = train.columns\n",
    "y = \"count\"\n",
    "x.remove(y)\n"
   ]
  },
  {
   "cell_type": "code",
   "execution_count": 10,
   "metadata": {},
   "outputs": [
    {
     "name": "stdout",
     "output_type": "stream",
     "text": [
      "AutoML progress: |████████████████████████████████████████████████████████| 100%\n",
      "Parse progress: |█████████████████████████████████████████████████████████| 100%\n"
     ]
    }
   ],
   "source": [
    "aml = H2OAutoML(max_runtime_secs = 300)\n",
    "aml.train(x = x, y = y,\n",
    "          training_frame = train,\n",
    "          leaderboard_frame = test)"
   ]
  },
  {
   "cell_type": "code",
   "execution_count": 11,
   "metadata": {},
   "outputs": [
    {
     "data": {
      "text/html": [
       "<table>\n",
       "<thead>\n",
       "<tr><th>model_id                                             </th><th style=\"text-align: right;\">  mean_residual_deviance</th><th style=\"text-align: right;\">   rmse</th><th style=\"text-align: right;\">    mae</th><th style=\"text-align: right;\">     rmsle</th></tr>\n",
       "</thead>\n",
       "<tbody>\n",
       "<tr><td>StackedEnsemble_AllModels_0_AutoML_20180228_155639   </td><td style=\"text-align: right;\">                 832.407</td><td style=\"text-align: right;\">28.8515</td><td style=\"text-align: right;\">18.7884</td><td style=\"text-align: right;\">nan       </td></tr>\n",
       "<tr><td>GBM_grid_0_AutoML_20180228_155639_model_4            </td><td style=\"text-align: right;\">                 900.52 </td><td style=\"text-align: right;\">30.0087</td><td style=\"text-align: right;\">19.5969</td><td style=\"text-align: right;\">nan       </td></tr>\n",
       "<tr><td>StackedEnsemble_BestOfFamily_0_AutoML_20180228_155639</td><td style=\"text-align: right;\">                 903.367</td><td style=\"text-align: right;\">30.0561</td><td style=\"text-align: right;\">19.6043</td><td style=\"text-align: right;\">nan       </td></tr>\n",
       "<tr><td>GBM_grid_0_AutoML_20180228_155639_model_0            </td><td style=\"text-align: right;\">                 927.042</td><td style=\"text-align: right;\">30.4474</td><td style=\"text-align: right;\">19.6107</td><td style=\"text-align: right;\">nan       </td></tr>\n",
       "<tr><td>GBM_grid_0_AutoML_20180228_155639_model_2            </td><td style=\"text-align: right;\">                 930.128</td><td style=\"text-align: right;\">30.498 </td><td style=\"text-align: right;\">19.5934</td><td style=\"text-align: right;\">  0.287601</td></tr>\n",
       "<tr><td>GBM_grid_0_AutoML_20180228_155639_model_1            </td><td style=\"text-align: right;\">                 952.312</td><td style=\"text-align: right;\">30.8596</td><td style=\"text-align: right;\">20.2997</td><td style=\"text-align: right;\">nan       </td></tr>\n",
       "<tr><td>GBM_grid_0_AutoML_20180228_155639_model_21           </td><td style=\"text-align: right;\">                 970.856</td><td style=\"text-align: right;\">31.1586</td><td style=\"text-align: right;\">20.5581</td><td style=\"text-align: right;\">  0.297711</td></tr>\n",
       "<tr><td>GBM_grid_0_AutoML_20180228_155639_model_3            </td><td style=\"text-align: right;\">                1013.94 </td><td style=\"text-align: right;\">31.8424</td><td style=\"text-align: right;\">21.276 </td><td style=\"text-align: right;\">nan       </td></tr>\n",
       "<tr><td>GBM_grid_0_AutoML_20180228_155639_model_19           </td><td style=\"text-align: right;\">                1028.84 </td><td style=\"text-align: right;\">32.0756</td><td style=\"text-align: right;\">21.048 </td><td style=\"text-align: right;\">nan       </td></tr>\n",
       "<tr><td>GBM_grid_0_AutoML_20180228_155639_model_6            </td><td style=\"text-align: right;\">                1061.61 </td><td style=\"text-align: right;\">32.5824</td><td style=\"text-align: right;\">20.8796</td><td style=\"text-align: right;\">  0.285161</td></tr>\n",
       "</tbody>\n",
       "</table>"
      ]
     },
     "metadata": {},
     "output_type": "display_data"
    },
    {
     "data": {
      "text/plain": []
     },
     "execution_count": 11,
     "metadata": {},
     "output_type": "execute_result"
    }
   ],
   "source": [
    "lb = aml.leaderboard\n",
    "lb"
   ]
  },
  {
   "cell_type": "code",
   "execution_count": null,
   "metadata": {},
   "outputs": [],
   "source": []
  }
 ],
 "metadata": {
  "kernelspec": {
   "display_name": "Python (bike-ml)",
   "language": "python",
   "name": "bike-ml"
  },
  "language_info": {
   "codemirror_mode": {
    "name": "ipython",
    "version": 3
   },
   "file_extension": ".py",
   "mimetype": "text/x-python",
   "name": "python",
   "nbconvert_exporter": "python",
   "pygments_lexer": "ipython3",
   "version": "3.6.4"
  }
 },
 "nbformat": 4,
 "nbformat_minor": 1
}
